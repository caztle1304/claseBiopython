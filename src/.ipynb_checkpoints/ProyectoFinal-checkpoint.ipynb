{
 "cells": [
  {
   "cell_type": "markdown",
   "metadata": {},
   "source": [
    "# Proyecto final"
   ]
  },
  {
   "cell_type": "markdown",
   "metadata": {},
   "source": [
    "# Angel Adrian De la Cruz Castillo, Dante Adonis Torres Sepúlveda"
   ]
  },
  {
   "cell_type": "markdown",
   "metadata": {},
   "source": [
    "# 1.1 Search identifiers on NCBI:"
   ]
  },
  {
   "cell_type": "code",
   "execution_count": 1,
   "metadata": {
    "scrolled": false
   },
   "outputs": [
    {
     "name": "stdout",
     "output_type": "stream",
     "text": [
      "1868032479\n",
      "1515564438\n",
      "179408\n",
      "224959855\n",
      "2168937\n",
      "183859\n",
      "183844\n"
     ]
    }
   ],
   "source": [
    "from Bio import Entrez\n",
    "Entrez.email = \"angeldc@lcg.unam.mx\"\n",
    "handle = Entrez.esearch(db=\"nucleotide\", term=\"sickle AND homo sapiens AND globin NOT chromosome\")\n",
    "record = Entrez.read(handle)\n",
    "for iden in record[\"IdList\"]:\n",
    "    print(iden)"
   ]
  },
  {
   "cell_type": "markdown",
   "metadata": {},
   "source": [
    "# 1.2 Retrieve sequences using identifiers:"
   ]
  },
  {
   "cell_type": "code",
   "execution_count": 2,
   "metadata": {
    "scrolled": true
   },
   "outputs": [
    {
     "name": "stdout",
     "output_type": "stream",
     "text": [
      "1868032479: Homo sapiens A-gamma globin (HBG1) gene, exon 1 and partial cds\n",
      "1515564438: Homo sapiens voucher ATGLAB 2018103 hemoglobin beta subunit (HBB) gene, exon 3 and partial cds\n",
      "179408: Human sickle cell beta-globin mRNA, complete cds\n",
      "224959855: Homo sapiens A-gamma globin (HBG1) gene, promoter region\n",
      "2168937: Part of DNA encoding beta-globin gene\n",
      "183859: Human hemoglobin DNA with a deletion causing Indian delta-beta thalassemia\n",
      "183844: Human hemoglobin-related sequence across the breakpoint for Indian delta-beta thalassemia\n"
     ]
    }
   ],
   "source": [
    "for iden in record[\"IdList\"]:\n",
    "    handle = Entrez.efetch(db = \"nucleotide\", id = iden, rettype = \"fasta\", retmode = \"xml\")\n",
    "    result = Entrez.read(handle)\n",
    "    print(iden + \": \" + result[0][\"TSeq_defline\"])"
   ]
  },
  {
   "cell_type": "markdown",
   "metadata": {},
   "source": [
    "# 1.3 Retrieve a single GenBank entry:"
   ]
  },
  {
   "cell_type": "code",
   "execution_count": 3,
   "metadata": {
    "scrolled": true
   },
   "outputs": [
    {
     "name": "stdout",
     "output_type": "stream",
     "text": [
      "LOCUS       HUMBETGLA                468 bp    mRNA    linear   PRI 27-APR-1993\n",
      "DEFINITION  Human sickle cell beta-globin mRNA, complete cds.\n",
      "ACCESSION   M25079\n",
      "VERSION     M25079.1\n",
      "KEYWORDS    .\n",
      "SOURCE      Homo sapiens (human)\n",
      "  ORGANISM  Homo sapiens\n",
      "            Eukaryota; Metazoa; Chordata; Craniata; Vertebrata; Euteleostomi;\n",
      "            Mammalia; Eutheria; Euarchontoglires; Primates; Haplorrhini;\n",
      "            Catarrhini; Hominidae; Homo.\n",
      "REFERENCE   1  (bases 1 to 468)\n",
      "  AUTHORS   Marotta,C.A., Forget,B.G., Cohen-Solal,M. and Weissman,S.M.\n",
      "  TITLE     Nucleotide sequence analysis of coding and noncoding regions of\n",
      "            human beta-globin mRNA\n",
      "  JOURNAL   Prog. Nucleic Acid Res. Mol. Biol. 19, 165-175 (1976)\n",
      "   PUBMED   1019344\n",
      "COMMENT     Original source text: Human sickle cell, cDNA to mRNA.\n",
      "FEATURES             Location/Qualifiers\n",
      "     source          1..468\n",
      "                     /organism=\"Homo sapiens\"\n",
      "                     /mol_type=\"mRNA\"\n",
      "                     /db_xref=\"taxon:9606\"\n",
      "                     /cell_type=\"sickle cell\"\n",
      "     CDS             1..444\n",
      "                     /experiment=\"experimental evidence, no additional details\n",
      "                     recorded\"\n",
      "                     /codon_start=1\n",
      "                     /product=\"beta-globin\"\n",
      "                     /protein_id=\"AAA35597.1\"\n",
      "                     /translation=\"MVHXTPVEKSAVTALWGKVNVDEXGGEALGXLLVVYPWTQRFXX\n",
      "                     SFGDLXTPXAVMGNPKVKAHGKKVLGAFSDGLAHLDNLKGTFATLSELHCDKLHVDPE\n",
      "                     NFRLLGNVXVCVLAHHFGKEFTPPVXAAYQKVVAGVANALAHKYH\"\n",
      "ORIGIN      \n",
      "        1 atggtncayy tnacnccngt ggagaagtcy gcygtnacng cnctntgggg yaaggtnaay\n",
      "       61 gtggatgaag yyggyggyga ggccctgggc agnctgctng tggtctaccc ttggacccag\n",
      "      121 aggttcttng antcnttygg ggatctgnnn acnccngang cagttatggg caaccctaag\n",
      "      181 gtgaaggctc atggcaagaa agtgctcggt gcctttagtg atggcctggc tcacctggac\n",
      "      241 aacctcaagg gcacctttgc cacactgagt gagctgcact gtgacaagct ncaygtggat\n",
      "      301 cctgagaact tcaggctnct nggcaacgtg ytngtctgyg tgctggccca tcactttggc\n",
      "      361 aaagaattca ccccaccagt gcangcngcc tatcagaaag tggtngctgg tgtngctaat\n",
      "      421 gccctggccc acaagtatca ctaagctngc yttyttgytg tccaattt\n",
      "//\n",
      "\n",
      "\n"
     ]
    }
   ],
   "source": [
    "\n",
    "handle = Entrez.efetch(db = \"nucleotide\", id = \"179408\", rettype = \"gb\", retmode = \"text\")\n",
    "result = handle.read()\n",
    "print(result)\n"
   ]
  },
  {
   "cell_type": "markdown",
   "metadata": {},
   "source": [
    "# 1.4 Write an output file:"
   ]
  },
  {
   "cell_type": "code",
   "execution_count": 4,
   "metadata": {
    "scrolled": false
   },
   "outputs": [],
   "source": [
    "outFile = open(\"../build/sickle.gb\", \"w+\")\n",
    "outFile.write(result)\n",
    "outFile.close()\n"
   ]
  },
  {
   "cell_type": "markdown",
   "metadata": {},
   "source": [
    "# 1.5 Retrieve and write multiple GenBank entries:"
   ]
  },
  {
   "cell_type": "code",
   "execution_count": 23,
   "metadata": {
    "scrolled": true
   },
   "outputs": [
    {
     "name": "stdout",
     "output_type": "stream",
     "text": [
      "Writing sequences into .gb file\n",
      "Done\n"
     ]
    }
   ],
   "source": [
    "print(\"Writing sequences into .gb file\")\n",
    "handle = Entrez.esearch(db = \"nucleotide\", term = 'beta-globin AND Homo sapiens[Organism] AND complete cds[All Fields]', usehistory= \"y\")\n",
    "record = Entrez.read(handle)\n",
    "newFile = open(\"../build/humanGlobinCompleteCDS.gb\", \"w+\")\n",
    "handle.close()\n",
    "handle = Entrez.efetch(db = \"nucleotide\", rettype = \"gb\", retmode = \"text\", webenv = record[\"WebEnv\"], query_key = record[\"QueryKey\"])\n",
    "results = handle.read()\n",
    "handle.close()\n",
    "newFile.write(results)\n",
    "newFile.close()\n",
    "print(\"Done\")"
   ]
  },
  {
   "cell_type": "markdown",
   "metadata": {},
   "source": [
    "# 2.1 Read a GenBank file:"
   ]
  },
  {
   "cell_type": "code",
   "execution_count": 6,
   "metadata": {},
   "outputs": [
    {
     "name": "stdout",
     "output_type": "stream",
     "text": [
      "ID: M25079.1\n",
      "Name: HUMBETGLA\n",
      "Description: Human sickle cell beta-globin mRNA, complete cds\n",
      "Number of features: 2\n",
      "/molecule_type=mRNA\n",
      "/topology=linear\n",
      "/data_file_division=PRI\n",
      "/date=27-APR-1993\n",
      "/accessions=['M25079']\n",
      "/sequence_version=1\n",
      "/keywords=['']\n",
      "/source=Homo sapiens (human)\n",
      "/organism=Homo sapiens\n",
      "/taxonomy=['Eukaryota', 'Metazoa', 'Chordata', 'Craniata', 'Vertebrata', 'Euteleostomi', 'Mammalia', 'Eutheria', 'Euarchontoglires', 'Primates', 'Haplorrhini', 'Catarrhini', 'Hominidae', 'Homo']\n",
      "/references=[Reference(title='Nucleotide sequence analysis of coding and noncoding regions of human beta-globin mRNA', ...)]\n",
      "/comment=Original source text: Human sickle cell, cDNA to mRNA.\n",
      "Seq('ATGGTNCAYYTNACNCCNGTGGAGAAGTCYGCYGTNACNGCNCTNTGGGGYAAG...TTT')\n"
     ]
    }
   ],
   "source": [
    "from Bio import SeqIO\n",
    "\n",
    "records = SeqIO.parse(\"../build/sickle.gb\", \"genbank\")\n",
    "\n",
    "for record in records:\n",
    "    print(record)"
   ]
  },
  {
   "cell_type": "markdown",
   "metadata": {},
   "source": [
    "# 2.2 Print information for one sequence:"
   ]
  },
  {
   "cell_type": "code",
   "execution_count": 7,
   "metadata": {
    "scrolled": false
   },
   "outputs": [
    {
     "name": "stdout",
     "output_type": "stream",
     "text": [
      "['__add__', '__bool__', '__class__', '__contains__', '__delattr__', '__dict__', '__dir__', '__doc__', '__eq__', '__format__', '__ge__', '__getattribute__', '__getitem__', '__gt__', '__hash__', '__init__', '__init_subclass__', '__iter__', '__le__', '__le___', '__len__', '__lt__', '__module__', '__ne__', '__new__', '__radd__', '__reduce__', '__reduce_ex__', '__repr__', '__setattr__', '__sizeof__', '__str__', '__subclasshook__', '__weakref__', '_per_letter_annotations', '_seq', '_set_per_letter_annotations', '_set_seq', 'annotations', 'dbxrefs', 'description', 'features', 'format', 'id', 'letter_annotations', 'lower', 'name', 'reverse_complement', 'seq', 'translate', 'upper']\n",
      "M25079.1\n",
      "HUMBETGLA\n",
      "Human sickle cell beta-globin mRNA, complete cds\n"
     ]
    }
   ],
   "source": [
    "records = SeqIO.parse(\"../build/sickle.gb\", \"genbank\")\n",
    "for record in records:\n",
    "    print(dir(record))\n",
    "    print(record.id)\n",
    "    print(record.name)\n",
    "    print(record.description)\n"
   ]
  },
  {
   "cell_type": "markdown",
   "metadata": {},
   "source": [
    "# 2.3 Write a FASTA file:"
   ]
  },
  {
   "cell_type": "code",
   "execution_count": 8,
   "metadata": {},
   "outputs": [],
   "source": [
    "records = SeqIO.parse(\"../build/sickle.gb\", \"genbank\")\n",
    "newFile = open(\"../build/records.fasta\", \"w+\")\n",
    "SeqIO.write(records, newFile, \"fasta\")\n",
    "newFile.close()"
   ]
  },
  {
   "cell_type": "markdown",
   "metadata": {},
   "source": [
    "# 2.4 Print information for multiple sequences:"
   ]
  },
  {
   "cell_type": "code",
   "execution_count": 9,
   "metadata": {},
   "outputs": [
    {
     "name": "stdout",
     "output_type": "stream",
     "text": [
      "MG657341.1\n",
      "MG657341\n",
      "Homo sapiens hemoglobin subunit beta (HBB) gene, complete cds\n",
      "\n",
      "\n",
      "\n",
      "MG675219.1\n",
      "MG675219\n",
      "Homo sapiens hemoglobin subunit beta (HBB) gene, complete cds\n",
      "\n",
      "\n",
      "\n",
      "MF462285.1\n",
      "MF462285\n",
      "Synthetic construct clone NFAT-CBR red-shifted luciferase (CBR) gene, complete cds\n",
      "\n",
      "\n",
      "\n",
      "EU760950.1\n",
      "EU760950\n",
      "Homo sapiens isolate TAL45 truncated beta globin gene, complete cds\n",
      "\n",
      "\n",
      "\n",
      "EU760937.1\n",
      "EU760937\n",
      "Homo sapiens isolate TAL29 truncated beta globin gene, complete cds\n",
      "\n",
      "\n",
      "\n",
      "EU760934.1\n",
      "EU760934\n",
      "Homo sapiens isolate TAL26 truncated beta globin gene, complete cds\n",
      "\n",
      "\n",
      "\n",
      "AH001475.2\n",
      "AH001475\n",
      "Homo sapiens beta-globin gene, complete cds\n",
      "\n",
      "\n",
      "\n",
      "AH005275.2\n",
      "AH005275\n",
      "Homo sapiens chromosome 16 hemoglobin zeta (HBZ) gene, complete cds; HBZP and HBAP1 pseudogenes, complete sequence; and hemoglobin alpha 2 (HBA2) and hemoglobin alpha 1 (HBA1) genes, complete cds\n",
      "\n",
      "\n",
      "\n",
      "AH002981.2\n",
      "AH002981\n",
      "Homo sapiens S100 protein beta subunit (S100-beta) gene, complete cds\n",
      "\n",
      "\n",
      "\n",
      "AH010109.2\n",
      "AH010109\n",
      "Homo sapiens odorant receptor HOR3'beta1, odorant receptor HOR3'beta2, odorant receptor HOR3'beta3, odorant receptor HOR3'beta4, and odorant receptor HOR3'beta5 genes, complete cds\n",
      "\n",
      "\n",
      "\n",
      "KU350152.1\n",
      "KU350152\n",
      "Homo sapiens beta-globin (HBB) gene, complete cds\n",
      "\n",
      "\n",
      "\n",
      "KR028331.1\n",
      "KR028331\n",
      "Homo sapiens beta-globin (HBB) gene, complete cds\n",
      "\n",
      "\n",
      "\n",
      "JX877554.1\n",
      "JX877554\n",
      "Homo sapiens krueppel-like factor 1 (KLF1) gene, complete cds\n",
      "\n",
      "\n",
      "\n",
      "EF450778.1\n",
      "EF450778\n",
      "Homo sapiens beta globin chain (HBB) gene, complete cds\n",
      "\n",
      "\n",
      "\n",
      "AY163866.1\n",
      "AY163866\n",
      "Homo sapiens beta globin chain variant (HBB) gene, HBB-O-Arab allele, complete cds\n",
      "\n",
      "\n",
      "\n",
      "U20223.1\n",
      "HSU20223\n",
      "Human thalassemia beta globin gene, complete cds\n",
      "\n",
      "\n",
      "\n",
      "L26478.1\n",
      "HUMBETGLOR\n",
      "Human haplotype D3 beta-globin gene, complete cds\n",
      "\n",
      "\n",
      "\n",
      "L26477.1\n",
      "HUMBETGLOP\n",
      "Human haplotype D2 beta-globin gene, complete cds\n",
      "\n",
      "\n",
      "\n",
      "L26476.1\n",
      "HUMBETGLOO\n",
      "Human haplotype D1 beta-globin gene, complete cds\n",
      "\n",
      "\n",
      "\n",
      "L26475.1\n",
      "HUMBETGLON\n",
      "Human haplotype C2 beta-globin gene, complete cds\n",
      "\n",
      "\n",
      "\n"
     ]
    }
   ],
   "source": [
    "records = SeqIO.parse(\"../build/humanGlobinCompleteCDS.fasta\", \"genbank\")\n",
    "for record in records:\n",
    "    print(record.id)\n",
    "    print(record.name)\n",
    "    print(record.description)\n",
    "    print(\"\\n\\n\")"
   ]
  },
  {
   "cell_type": "markdown",
   "metadata": {},
   "source": [
    "# 2.5 Filtering sequence entries:"
   ]
  },
  {
   "cell_type": "code",
   "execution_count": 10,
   "metadata": {},
   "outputs": [
    {
     "name": "stdout",
     "output_type": "stream",
     "text": [
      "MG657341.1\n",
      "Homo sapiens hemoglobin subunit beta (HBB) gene, complete cds\n",
      "MG657341\n",
      "\n",
      "\n",
      "\n",
      "\n",
      "MG675219.1\n",
      "Homo sapiens hemoglobin subunit beta (HBB) gene, complete cds\n",
      "MG675219\n",
      "\n",
      "\n",
      "\n",
      "\n",
      "MF462285.1\n",
      "Synthetic construct clone NFAT-CBR red-shifted luciferase (CBR) gene, complete cds\n",
      "MF462285\n",
      "\n",
      "\n",
      "\n",
      "\n",
      "AH001475.2\n",
      "Homo sapiens beta-globin gene, complete cds\n",
      "AH001475\n",
      "\n",
      "\n",
      "\n",
      "\n",
      "AH005275.2\n",
      "Homo sapiens chromosome 16 hemoglobin zeta (HBZ) gene, complete cds; HBZP and HBAP1 pseudogenes, complete sequence; and hemoglobin alpha 2 (HBA2) and hemoglobin alpha 1 (HBA1) genes, complete cds\n",
      "AH005275\n",
      "\n",
      "\n",
      "\n",
      "\n",
      "AH002981.2\n",
      "Homo sapiens S100 protein beta subunit (S100-beta) gene, complete cds\n",
      "AH002981\n",
      "\n",
      "\n",
      "\n",
      "\n",
      "AH010109.2\n",
      "Homo sapiens odorant receptor HOR3'beta1, odorant receptor HOR3'beta2, odorant receptor HOR3'beta3, odorant receptor HOR3'beta4, and odorant receptor HOR3'beta5 genes, complete cds\n",
      "AH010109\n",
      "\n",
      "\n",
      "\n",
      "\n",
      "KU350152.1\n",
      "Homo sapiens beta-globin (HBB) gene, complete cds\n",
      "KU350152\n",
      "\n",
      "\n",
      "\n",
      "\n",
      "KR028331.1\n",
      "Homo sapiens beta-globin (HBB) gene, complete cds\n",
      "KR028331\n",
      "\n",
      "\n",
      "\n",
      "\n",
      "JX877554.1\n",
      "Homo sapiens krueppel-like factor 1 (KLF1) gene, complete cds\n",
      "JX877554\n",
      "\n",
      "\n",
      "\n",
      "\n",
      "EF450778.1\n",
      "Homo sapiens beta globin chain (HBB) gene, complete cds\n",
      "EF450778\n",
      "\n",
      "\n",
      "\n",
      "\n",
      "AY163866.1\n",
      "Homo sapiens beta globin chain variant (HBB) gene, HBB-O-Arab allele, complete cds\n",
      "AY163866\n",
      "\n",
      "\n",
      "\n",
      "\n",
      "U20223.1\n",
      "Human thalassemia beta globin gene, complete cds\n",
      "HSU20223\n",
      "\n",
      "\n",
      "\n",
      "\n",
      "L26478.1\n",
      "Human haplotype D3 beta-globin gene, complete cds\n",
      "HUMBETGLOR\n",
      "\n",
      "\n",
      "\n",
      "\n",
      "L26477.1\n",
      "Human haplotype D2 beta-globin gene, complete cds\n",
      "HUMBETGLOP\n",
      "\n",
      "\n",
      "\n",
      "\n",
      "L26476.1\n",
      "Human haplotype D1 beta-globin gene, complete cds\n",
      "HUMBETGLOO\n",
      "\n",
      "\n",
      "\n",
      "\n",
      "L26475.1\n",
      "Human haplotype C2 beta-globin gene, complete cds\n",
      "HUMBETGLON\n",
      "\n",
      "\n",
      "\n",
      "\n"
     ]
    }
   ],
   "source": [
    "records = SeqIO.parse(\"../build/humanGlobinCompleteCDS.fasta\", \"genbank\")\n",
    "for record in records:\n",
    "    if \"isolate\" in str(record.description).split():\n",
    "        continue\n",
    "    if \"vector\" in str(record.description).split():\n",
    "        continue\n",
    "    else:\n",
    "        print(record.id)\n",
    "        print(record.description)\n",
    "        print(record.name)\n",
    "        print(\"\\n\\n\\n\")"
   ]
  },
  {
   "cell_type": "markdown",
   "metadata": {},
   "source": [
    "# 3.1 The DNA sequence:"
   ]
  },
  {
   "cell_type": "code",
   "execution_count": 11,
   "metadata": {},
   "outputs": [
    {
     "name": "stdout",
     "output_type": "stream",
     "text": [
      "DNA sickle: \n",
      " ATGGTNCAYYTNACNCCNGTGGAGAAGTCYGCYGTNACNGCNCTNTGGGGYAAGGTNAAYGTGGATGAAGYYGGYGGYGAGGCCCTGGGCAGNCTGCTNGTGGTCTACCCTTGGACCCAGAGGTTCTTNGANTCNTTYGGGGATCTGNNNACNCCNGANGCAGTTATGGGCAACCCTAAGGTGAAGGCTCATGGCAAGAAAGTGCTCGGTGCCTTTAGTGATGGCCTGGCTCACCTGGACAACCTCAAGGGCACCTTTGCCACACTGAGTGAGCTGCACTGTGACAAGCTNCAYGTGGATCCTGAGAACTTCAGGCTNCTNGGCAACGTGYTNGTCTGYGTGCTGGCCCATCACTTTGGCAAAGAATTCACCCCACCAGTGCANGCNGCCTATCAGAAAGTGGTNGCTGGTGTNGCTAATGCCCTGGCCCACAAGTATCACTAAGCTNGCYTTYTTGYTGTCCAATTT\n"
     ]
    }
   ],
   "source": [
    "from Bio.Seq import Seq\n",
    "records = SeqIO.parse(\"../build/sickle.gb\", \"genbank\")\n",
    "for record in records:\n",
    "    sequence = record.seq\n",
    "    print(\"DNA sickle:\", '\\n',sequence)"
   ]
  },
  {
   "cell_type": "markdown",
   "metadata": {},
   "source": [
    "# 3.2 Transcribe DNA to RNA:"
   ]
  },
  {
   "cell_type": "code",
   "execution_count": 12,
   "metadata": {},
   "outputs": [
    {
     "name": "stdout",
     "output_type": "stream",
     "text": [
      "RNA sickle: \n",
      " AUGGUNCAYYUNACNCCNGUGGAGAAGUCYGCYGUNACNGCNCUNUGGGGYAAGGUNAAYGUGGAUGAAGYYGGYGGYGAGGCCCUGGGCAGNCUGCUNGUGGUCUACCCUUGGACCCAGAGGUUCUUNGANUCNUUYGGGGAUCUGNNNACNCCNGANGCAGUUAUGGGCAACCCUAAGGUGAAGGCUCAUGGCAAGAAAGUGCUCGGUGCCUUUAGUGAUGGCCUGGCUCACCUGGACAACCUCAAGGGCACCUUUGCCACACUGAGUGAGCUGCACUGUGACAAGCUNCAYGUGGAUCCUGAGAACUUCAGGCUNCUNGGCAACGUGYUNGUCUGYGUGCUGGCCCAUCACUUUGGCAAAGAAUUCACCCCACCAGUGCANGCNGCCUAUCAGAAAGUGGUNGCUGGUGUNGCUAAUGCCCUGGCCCACAAGUAUCACUAAGCUNGCYUUYUUGYUGUCCAAUUU\n"
     ]
    }
   ],
   "source": [
    "rna_sequence = sequence.transcribe()\n",
    "print(\"RNA sickle:\", '\\n',rna_sequence)"
   ]
  },
  {
   "cell_type": "markdown",
   "metadata": {},
   "source": [
    "# 3.3 Translate RNA to protein:"
   ]
  },
  {
   "cell_type": "code",
   "execution_count": 13,
   "metadata": {},
   "outputs": [
    {
     "name": "stdout",
     "output_type": "stream",
     "text": [
      "Proteina sickle: \n",
      " MVHXTPVEKSAVTALWGKVNVDEXGGEALGXLLVVYPWTQRFXXSFGDLXTPXAVMGNPKVKAHGKKVLGAFSDGLAHLDNLKGTFATLSELHCDKLHVDPENFRLLGNVXVCVLAHHFGKEFTPPVXAAYQKVVAGVANALAHKYH\n"
     ]
    }
   ],
   "source": [
    "protein = sequence.translate(to_stop=True)\n",
    "print(\"Proteina sickle:\", '\\n',protein)"
   ]
  },
  {
   "cell_type": "code",
   "execution_count": 14,
   "metadata": {},
   "outputs": [],
   "source": [
    "newFile = open(\"../build/sickle_cell_protein.txt\", \"w+\")\n",
    "newFile.write(str(protein))\n",
    "newFile.close()"
   ]
  },
  {
   "cell_type": "markdown",
   "metadata": {},
   "source": [
    "# ¿3.4?"
   ]
  },
  {
   "cell_type": "code",
   "execution_count": 22,
   "metadata": {},
   "outputs": [
    {
     "name": "stdout",
     "output_type": "stream",
     "text": [
      "['MG657341']\n",
      "['MG675219']\n",
      "['MF462285']\n",
      "['EU760950']\n",
      "['EU760937']\n",
      "['EU760934']\n",
      "['AH001475', 'M34058', 'M34059']\n",
      "['AH005275', 'J00153', 'J00181', 'J00182', 'J00183', 'J00184']\n",
      "['AH002981', 'J05600', 'M59486', 'M59487', 'M59488']\n",
      "['AH010109', 'AF289203', 'AF289204']\n",
      "['KU350152']\n",
      "['KR028331']\n",
      "['JX877554']\n",
      "['EF450778']\n",
      "['AY163866']\n",
      "['U20223']\n",
      "['L26478']\n",
      "['L26477']\n",
      "['L26476']\n",
      "['L26475']\n"
     ]
    }
   ],
   "source": [
    "from Bio.SeqRecord import SeqRecord\n",
    "records = SeqIO.parse(\"../build/humanGlobinCompleteCDS.fasta\", \"genbank\")\n",
    "for record in records:\n",
    "    print(record.annotations['accessions'])\n",
    "    if record.annotations['accessions'] == 'L26462':\n",
    "        OG_Sequence = record.seq \n",
    "        print(record.seq)"
   ]
  },
  {
   "cell_type": "markdown",
   "metadata": {},
   "source": [
    "# 3.4 Analyze annotations of beta-globin:"
   ]
  },
  {
   "cell_type": "code",
   "execution_count": 23,
   "metadata": {},
   "outputs": [],
   "source": [
    "from Bio import Entrez, SeqIO\n",
    "handle = Entrez.efetch(db=\"nucleotide\", id=\"L26462\", rettype=\"gb\", retmode=\"text\")\n",
    "record = SeqIO.read(handle, \"genbank\")\n",
    "OG_Sequence = record.seq \n"
   ]
  },
  {
   "cell_type": "markdown",
   "metadata": {},
   "source": [
    "# 3.5 Extract sequence features:"
   ]
  },
  {
   "cell_type": "code",
   "execution_count": 24,
   "metadata": {},
   "outputs": [
    {
     "name": "stdout",
     "output_type": "stream",
     "text": [
      "Informacion de la secuencia \n",
      " type: source\n",
      "location: [0:3002](+)\n",
      "qualifiers:\n",
      "    Key: db_xref, Value: ['taxon:9606']\n",
      "    Key: haplotype, Value: ['C4']\n",
      "    Key: mol_type, Value: ['genomic DNA']\n",
      "    Key: note, Value: ['sequence found in a Melanesian population']\n",
      "    Key: organism, Value: ['Homo sapiens']\n",
      "\n",
      "Informacion de la secuencia \n",
      " type: variation\n",
      "location: [110:111](+)\n",
      "qualifiers:\n",
      "    Key: replace, Value: ['t']\n",
      "\n",
      "Informacion de la secuencia \n",
      " type: variation\n",
      "location: [262:263](+)\n",
      "qualifiers:\n",
      "    Key: note, Value: ['Rsa I polymorphism']\n",
      "    Key: replace, Value: ['t']\n",
      "\n",
      "Informacion de la secuencia \n",
      " type: variation\n",
      "location: [272:273](+)\n",
      "qualifiers:\n",
      "    Key: replace, Value: ['c']\n",
      "\n",
      "Informacion de la secuencia \n",
      " type: variation\n",
      "location: [285:287](+)\n",
      "qualifiers:\n",
      "    Key: note, Value: ['2 bp insertion of AT']\n",
      "    Key: replace, Value: ['']\n",
      "\n",
      "Informacion de la secuencia \n",
      " type: variation\n",
      "location: [287:288](+)\n",
      "qualifiers:\n",
      "    Key: replace, Value: ['t']\n",
      "\n",
      "Informacion de la secuencia \n",
      " type: variation\n",
      "location: [294:296](+)\n",
      "qualifiers:\n",
      "    Key: note, Value: ['1 bp deletion of C or 2 bp deletion of CT']\n",
      "    Key: replace, Value: ['']\n",
      "\n",
      "Informacion de la secuencia \n",
      " type: variation\n",
      "location: [346:347](+)\n",
      "qualifiers:\n",
      "    Key: replace, Value: ['c']\n",
      "\n",
      "Informacion de la secuencia \n",
      " type: variation\n",
      "location: [475:476](+)\n",
      "qualifiers:\n",
      "    Key: replace, Value: ['t']\n",
      "\n",
      "Informacion de la secuencia \n",
      " type: variation\n",
      "location: [499:500](+)\n",
      "qualifiers:\n",
      "    Key: replace, Value: ['c']\n",
      "\n",
      "Informacion de la secuencia \n",
      " type: CDS\n",
      "location: join{[865:957](+), [1087:1310](+), [2160:2289](+)}\n",
      "qualifiers:\n",
      "    Key: codon_start, Value: ['1']\n",
      "    Key: product, Value: ['beta-globin']\n",
      "    Key: protein_id, Value: ['AAA21100.1']\n",
      "    Key: translation, Value: ['MVHLTPEEKSAVTALWGKVNVDEVGGEALGRLLVVYPWTQRFFESFGDLSTPDAVMGNPKVKAHGKKVLGAFSDGLAHLDNLKGTFATLSELHCDKLHVDPENFRLLGNVLVCVLAHHFGKEFTPPVQAAYQKVVAGVANALAHKYH']\n",
      "\n",
      "Informacion de la secuencia \n",
      " type: exon\n",
      "location: [<865:957](+)\n",
      "qualifiers:\n",
      "    Key: number, Value: ['1']\n",
      "\n",
      "Informacion de la secuencia \n",
      " type: variation\n",
      "location: [873:874](+)\n",
      "qualifiers:\n",
      "    Key: replace, Value: ['c']\n",
      "\n",
      "Informacion de la secuencia \n",
      " type: intron\n",
      "location: [957:1087](+)\n",
      "qualifiers:\n",
      "    Key: number, Value: ['1']\n",
      "\n",
      "Informacion de la secuencia \n",
      " type: exon\n",
      "location: [1087:1310](+)\n",
      "qualifiers:\n",
      "    Key: number, Value: ['2']\n",
      "\n",
      "Informacion de la secuencia \n",
      " type: intron\n",
      "location: [1310:2160](+)\n",
      "qualifiers:\n",
      "    Key: number, Value: ['2']\n",
      "\n",
      "Informacion de la secuencia \n",
      " type: variation\n",
      "location: [1325:1326](+)\n",
      "qualifiers:\n",
      "    Key: note, Value: ['Ava II polymorphism']\n",
      "    Key: replace, Value: ['g']\n",
      "\n",
      "Informacion de la secuencia \n",
      " type: variation\n",
      "location: [1383:1384](+)\n",
      "qualifiers:\n",
      "    Key: replace, Value: ['g']\n",
      "\n",
      "Informacion de la secuencia \n",
      " type: variation\n",
      "location: [1390:1391](+)\n",
      "qualifiers:\n",
      "    Key: replace, Value: ['t']\n",
      "\n",
      "Informacion de la secuencia \n",
      " type: variation\n",
      "location: [1975:1976](+)\n",
      "qualifiers:\n",
      "    Key: replace, Value: ['t']\n",
      "\n",
      "Informacion de la secuencia \n",
      " type: exon\n",
      "location: [2160:>2289](+)\n",
      "qualifiers:\n",
      "    Key: number, Value: ['3']\n",
      "\n",
      "Informacion de la secuencia \n",
      " type: variation\n",
      "location: [2521:2522](+)\n",
      "qualifiers:\n",
      "    Key: replace, Value: ['c']\n",
      "\n",
      "Informacion de la secuencia \n",
      " type: variation\n",
      "location: [2601:2602](+)\n",
      "qualifiers:\n",
      "    Key: replace, Value: ['a']\n",
      "\n",
      "Informacion de la secuencia \n",
      " type: variation\n",
      "location: [2603:2604](+)\n",
      "qualifiers:\n",
      "    Key: replace, Value: ['c']\n",
      "\n",
      "Informacion de la secuencia \n",
      " type: variation\n",
      "location: [2759:2760](+)\n",
      "qualifiers:\n",
      "    Key: note, Value: ['Hinf I polymorphism']\n",
      "    Key: replace, Value: ['t']\n",
      "\n",
      "Informacion de la secuencia \n",
      " type: variation\n",
      "location: [2912:2913](+)\n",
      "qualifiers:\n",
      "    Key: replace, Value: ['g']\n",
      "\n"
     ]
    }
   ],
   "source": [
    "for recordd in record.features:\n",
    "    print(\"Informacion de la secuencia\", '\\n',recordd)"
   ]
  },
  {
   "cell_type": "markdown",
   "metadata": {},
   "source": [
    "# 3.6 Extract exons:"
   ]
  },
  {
   "cell_type": "code",
   "execution_count": 25,
   "metadata": {},
   "outputs": [
    {
     "name": "stdout",
     "output_type": "stream",
     "text": [
      "Informacion de los exones: \n",
      " type: exon\n",
      "location: [<865:957](+)\n",
      "qualifiers:\n",
      "    Key: number, Value: ['1']\n",
      "\n",
      "Informacion de los exones: \n",
      " type: exon\n",
      "location: [1087:1310](+)\n",
      "qualifiers:\n",
      "    Key: number, Value: ['2']\n",
      "\n",
      "Informacion de los exones: \n",
      " type: exon\n",
      "location: [2160:>2289](+)\n",
      "qualifiers:\n",
      "    Key: number, Value: ['3']\n",
      "\n"
     ]
    }
   ],
   "source": [
    "locations = []\n",
    "for recordd in record.features:\n",
    "    if recordd.type == 'exon':\n",
    "        locations.append(str(recordd.location))\n",
    "        print(\"Informacion de los exones:\", '\\n',recordd)"
   ]
  },
  {
   "cell_type": "code",
   "execution_count": 26,
   "metadata": {},
   "outputs": [
    {
     "name": "stdout",
     "output_type": "stream",
     "text": [
      "Los exones inician en las bases  ['865', '1087', '2160'] y terminan en las bases ['957', '1310', '2289'] , respectivamente.\n"
     ]
    }
   ],
   "source": [
    "import re\n",
    "\n",
    "start = []\n",
    "stop = []\n",
    "for x in locations:\n",
    "    y = str(x.split(':'))\n",
    "    w = re.findall(\"\\d\", y)\n",
    "    l = int(len(w)/2)\n",
    "    start.append('%s' % \"\".join(w[:l]))\n",
    "    stop.append('%s' % \"\".join(w[l::]))\n",
    "print(\"Los exones inician en las bases \",start, \"y terminan en las bases\",stop,', respectivamente.')"
   ]
  },
  {
   "cell_type": "markdown",
   "metadata": {},
   "source": [
    "# 3.7 Extract the beta-globin protein sequence:"
   ]
  },
  {
   "cell_type": "code",
   "execution_count": 27,
   "metadata": {},
   "outputs": [
    {
     "name": "stdout",
     "output_type": "stream",
     "text": [
      "Secuencia ADN sickle ATGGTGCATCTGACTCCTGAGGAGAAGTCTGCCGTTACTGCCCTGTGGGGCAAGGTGAACGTGGATGAAGTTGGTGGTGAGGCCCTGGGCAGGCTGCTGGTGGTCTACCCTTGGACCCAGAGGTTCTTTGAGTCCTTTGGGGATCTGTCCACTCCTGATGCTGTTATGGGCAACCCTAAGGTGAAGGCTCATGGCAAGAAAGTGCTCGGTGCCTTTAGTGATGGCCTGGCTCACCTGGACAACCTCAAGGGCACCTTTGCCACACTGAGTGAGCTGCACTGTGACAAGCTGCACGTGGATCCTGAGAACTTCAGG \n",
      "\n",
      "\n",
      "Secuencia ARN sickle:  AUGGUGCAUCUGACUCCUGAGGAGAAGUCUGCCGUUACUGCCCUGUGGGGCAAGGUGAACGUGGAUGAAGUUGGUGGUGAGGCCCUGGGCAGGCUGCUGGUGGUCUACCCUUGGACCCAGAGGUUCUUUGAGUCCUUUGGGGAUCUGUCCACUCCUGAUGCUGUUAUGGGCAACCCUAAGGUGAAGGCUCAUGGCAAGAAAGUGCUCGGUGCCUUUAGUGAUGGCCUGGCUCACCUGGACAACCUCAAGGGCACCUUUGCCACACUGAGUGAGCUGCACUGUGACAAGCUGCACGUGGAUCCUGAGAACUUCAGG \n",
      "\n",
      "\n",
      "Secuencia Aminoacidos sickle  MVHLTPEEKSAVTALWGKVNVDEVGGEALGRLLVVYPWTQRFFESFGDLSTPDAVMGNPKVKAHGKKVLGAFSDGLAHLDNLKGTFATLSELHCDKLHVDPENFR\n"
     ]
    }
   ],
   "source": [
    "RealOG_Sequence = ''\n",
    "for x in range(2):\n",
    "    RealOG_Sequence += OG_Sequence[int(start[x]):int(stop[x])]\n",
    "print(\"Secuencia ADN sickle\", RealOG_Sequence, '\\n\\n')\n",
    "print(\"Secuencia ARN sickle: \", RealOG_Sequence.transcribe(), '\\n\\n')\n",
    "print(\"Secuencia Aminoacidos sickle \", RealOG_Sequence.translate(to_stop=True))"
   ]
  },
  {
   "cell_type": "markdown",
   "metadata": {},
   "source": [
    "# 3.8 Results:"
   ]
  },
  {
   "cell_type": "code",
   "execution_count": 28,
   "metadata": {},
   "outputs": [
    {
     "name": "stdout",
     "output_type": "stream",
     "text": [
      "Secuencia ADN sickle: ATGGTNCAYYTNACNCCNGTGGAGAAGTCYGCYGTNACNGCNCTNTGGGGYAAGGTNAAYGTGGATGAAGYYGGYGGYGAGGCCCTGGGCAGNCTGCTNGTGGTCTACCCTTGGACCCAGAGGTTCTTNGANTCNTTYGGGGATCTGNNNACNCCNGANGCAGTTATGGGCAACCCTAAGGTGAAGGCTCATGGCAAGAAAGTGCTCGGTGCCTTTAGTGATGGCCTGGCTCACCTGGACAACCTCAAGGGCACCTTTGCCACACTGAGTGAGCTGCACTGTGACAAGCTNCAYGTGGATCCTGAGAACTTCAGGCTNCTNGGCAACGTGYTNGTCTGYGTGCTGGCCCATCACTTTGGCAAAGAATTCACCCCACCAGTGCANGCNGCCTATCAGAAAGTGGTNGCTGGTGTNGCTAATGCCCTGGCCCACAAGTATCACTAAGCTNGCYTTYTTGYTGTCCAATTT \n",
      "\n",
      "\n",
      "Secuencia ADN normal: ATGGTGCATCTGACTCCTGAGGAGAAGTCTGCCGTTACTGCCCTGTGGGGCAAGGTGAACGTGGATGAAGTTGGTGGTGAGGCCCTGGGCAGGCTGCTGGTGGTCTACCCTTGGACCCAGAGGTTCTTTGAGTCCTTTGGGGATCTGTCCACTCCTGATGCTGTTATGGGCAACCCTAAGGTGAAGGCTCATGGCAAGAAAGTGCTCGGTGCCTTTAGTGATGGCCTGGCTCACCTGGACAACCTCAAGGGCACCTTTGCCACACTGAGTGAGCTGCACTGTGACAAGCTGCACGTGGATCCTGAGAACTTCAGG\n"
     ]
    }
   ],
   "source": [
    "print(\"Secuencia ADN sickle:\",sequence, '\\n\\n')\n",
    "print(\"Secuencia ADN normal:\", RealOG_Sequence)"
   ]
  },
  {
   "cell_type": "code",
   "execution_count": 29,
   "metadata": {},
   "outputs": [
    {
     "name": "stdout",
     "output_type": "stream",
     "text": [
      "Secuencia ADN sickle: MVHXTPVEKSAVTALWGKVNVDEXGGEALGXLLVVYPWTQRFXXSFGDLXTPXAVMGNPKVKAHGKKVLGAFSDGLAHLDNLKGTFATLSELHCDKLHVDPENFRLLGNVXVCVLAHHFGKEFTPPVXAAYQKVVAGVANALAHKYH \n",
      "\n",
      "\n",
      "Secuencia ADN normal: MVHLTPEEKSAVTALWGKVNVDEVGGEALGRLLVVYPWTQRFFESFGDLSTPDAVMGNPKVKAHGKKVLGAFSDGLAHLDNLKGTFATLSELHCDKLHVDPENFR\n"
     ]
    }
   ],
   "source": [
    "print(\"Secuencia ADN sickle:\",protein, '\\n\\n')\n",
    "print(\"Secuencia ADN normal:\", RealOG_Sequence.translate(to_stop=True))"
   ]
  },
  {
   "cell_type": "markdown",
   "metadata": {},
   "source": [
    "# 4.2 Search for a start codon"
   ]
  },
  {
   "cell_type": "code",
   "execution_count": 30,
   "metadata": {},
   "outputs": [
    {
     "name": "stdout",
     "output_type": "stream",
     "text": [
      "El codon de inicio esta ubicado en las bases  (0, 3)\n"
     ]
    }
   ],
   "source": [
    "import re\n",
    "\n",
    "sequence = str(sequence)\n",
    "match = re.search('ATG', sequence)\n",
    "print(\"El codon de inicio esta ubicado en las bases \", match.span())"
   ]
  },
  {
   "cell_type": "markdown",
   "metadata": {},
   "source": [
    "# 4.3 Search for a restriction site:"
   ]
  },
  {
   "cell_type": "code",
   "execution_count": 31,
   "metadata": {},
   "outputs": [],
   "source": [
    "def buscar_patrones(enzima, patron):\n",
    "    pattern = re.compile(patron, flags = re.M)\n",
    "    result = pattern.search(sequence)\n",
    "    result2 = pattern.search(str(RealOG_Sequence))\n",
    "    if result and result2 != None:\n",
    "        print(f\"La enzima de restriccion {enzima} corta en las bases {result.span()} de la secuencia sickle\")\n",
    "        print(f\"La enzima de restriccion {enzima} corta en las bases {result2.span()} de la secuencia saludable \\n\")\n",
    "    if result == None and result2 == None:\n",
    "        print(f\"La enzima de restriccion {enzima} no tiene sitio de union en ninguna de las secuencias \\n\")\n",
    "    if result == None and result2 != None:\n",
    "        print(f\"La enzima de restriccion {enzima} no tiene sitio de union en la secuencia sickle\")\n",
    "        print(f\"La enzima de restriccion {enzima} corta en las bases {result2.span()} de la secuencia saludable \\n\")\n",
    "    if result2 == None and result != None:\n",
    "        print(f\"La enzima de restriccion {enzima} corta en las bases {result.span()} de la secuencia sickle\")\n",
    "        print(f\"La enzima de restriccion {enzima} no tiene sitio de union en la secuencia saludable \\n\")\n",
    "        "
   ]
  },
  {
   "cell_type": "code",
   "execution_count": 32,
   "metadata": {},
   "outputs": [
    {
     "name": "stdout",
     "output_type": "stream",
     "text": [
      "La enzima de restriccion Ddel corta en las bases (173, 180) de la secuencia sickle\n",
      "La enzima de restriccion Ddel corta en las bases (14, 21) de la secuencia saludable \n",
      "\n"
     ]
    }
   ],
   "source": [
    "buscar_patrones('Ddel','..CT.AG')"
   ]
  },
  {
   "cell_type": "markdown",
   "metadata": {},
   "source": [
    "# 4.4 Try more restriction enzymes:"
   ]
  },
  {
   "cell_type": "code",
   "execution_count": 33,
   "metadata": {},
   "outputs": [
    {
     "name": "stdout",
     "output_type": "stream",
     "text": [
      "La enzima de restriccion HinfI corta en las bases (102, 108) de la secuencia sickle\n",
      "La enzima de restriccion HinfI corta en las bases (54, 60) de la secuencia saludable \n",
      "\n",
      "La enzima de restriccion MstII corta en las bases (174, 181) de la secuencia sickle\n",
      "La enzima de restriccion MstII corta en las bases (15, 22) de la secuencia saludable \n",
      "\n",
      "La enzima de restriccion BceRI no tiene sitio de union en ninguna de las secuencias \n",
      "\n",
      "La enzima de restriccion EcoRI corta en las bases (363, 369) de la secuencia sickle\n",
      "La enzima de restriccion EcoRI no tiene sitio de union en la secuencia saludable \n",
      "\n",
      "La enzima de restriccion BseRI no tiene sitio de union en la secuencia sickle\n",
      "La enzima de restriccion BseRI corta en las bases (18, 24) de la secuencia saludable \n",
      "\n"
     ]
    }
   ],
   "source": [
    "buscar_patrones('HinfI','GT..AC')\n",
    "buscar_patrones('MstII','CCT.AGG')\n",
    "buscar_patrones('BceRI','ACGGC.............')\n",
    "buscar_patrones('EcoRI','GAATTC')\n",
    "buscar_patrones('BseRI','GAGGAG')"
   ]
  },
  {
   "cell_type": "markdown",
   "metadata": {},
   "source": [
    "# 4.5 Replace missing characters:"
   ]
  },
  {
   "cell_type": "code",
   "execution_count": 34,
   "metadata": {},
   "outputs": [
    {
     "name": "stdout",
     "output_type": "stream",
     "text": [
      "Secuencia sicke con bases sustutidas: \n",
      "\n",
      "ATGGTGCAYYTGACTCCTGTGGAGAAGTCYGCYGTTACTGCCCTGTGGGGYAAGGTGAAYGTGGATGAAGYYGGYGGYGAGGCCCTGGGCAGGCTGCTGGTGGTCTACCCTTGGACCCAGAGGTTCTTTGAGTCCTTYGGGGATCTGTCCACTCCTGATGCAGTTATGGGCAACCCTAAGGTGAAGGCTCATGGCAAGAAAGTGCTCGGTGCCTTTAGTGATGGCCTGGCTCACCTGGACAACCTCAAGGGCACCTTTGCCACACTGAGTGAGCTGCACTGTGACAAGCTGCAYGTGGATCCTGAGAACTTCAGG"
     ]
    }
   ],
   "source": [
    "lenght = len(RealOG_Sequence)\n",
    "print(\"Secuencia sicke con bases sustutidas: \\n\")\n",
    "for x in range(lenght):\n",
    "    if sequence[x] == 'N':\n",
    "        print(RealOG_Sequence[x], end = '')\n",
    "    else:\n",
    "        print(sequence[x], end = '')"
   ]
  }
 ],
 "metadata": {
  "kernelspec": {
   "display_name": "Python 3",
   "language": "python",
   "name": "python3"
  },
  "language_info": {
   "codemirror_mode": {
    "name": "ipython",
    "version": 3
   },
   "file_extension": ".py",
   "mimetype": "text/x-python",
   "name": "python",
   "nbconvert_exporter": "python",
   "pygments_lexer": "ipython3",
   "version": "3.7.6"
  }
 },
 "nbformat": 4,
 "nbformat_minor": 4
}
